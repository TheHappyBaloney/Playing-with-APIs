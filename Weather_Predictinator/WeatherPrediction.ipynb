import matplotlib.pyplot as plt
from scipy import stats
import pandas as pd
import openmeteo_requests
import requests_cache
from retry_requests import retry

cache_session = requests_cache.CachedSession('.cache', expire_after = 3600)
retry_session = retry(cache_session, retries = 5, backoff_factor = 0.2)
openmeteo = openmeteo_requests.Client(session = retry_session)

url = "https://api.open-meteo.com/v1/forecast"
params = {
	"latitude": 22.5626,
	"longitude": 88.363,
	"hourly": ["temperature_2m", "relative_humidity_2m", "dew_point_2m", "rain", "showers"],
	"past_days": 31,
	"forecast_days": 16
}
responses = openmeteo.weather_api(url, params=params)


response = responses[0]
print(f"Coordinates {response.Latitude()}°E {response.Longitude()}°N")
print(f"Elevation {response.Elevation()} m asl")
print(f"Timezone {response.Timezone()} {response.TimezoneAbbreviation()}")
print(f"Timezone difference to GMT+0 {response.UtcOffsetSeconds()} s")


hourly = response.Hourly()
hourly_temperature_2m = hourly.Variables(0).ValuesAsNumpy()
hourly_relative_humidity_2m = hourly.Variables(1).ValuesAsNumpy()
hourly_dew_point_2m = hourly.Variables(2).ValuesAsNumpy()
hourly_rain = hourly.Variables(3).ValuesAsNumpy()
hourly_showers = hourly.Variables(4).ValuesAsNumpy()

hourly_data = {"date": pd.date_range(
	start = pd.to_datetime(hourly.Time(), unit = "s"),
	end = pd.to_datetime(hourly.TimeEnd(), unit = "s"),
	freq = pd.Timedelta(seconds = hourly.Interval()),
	inclusive = "left"
)}
hourly_data["temperature_2m"] = hourly_temperature_2m
hourly_data["relative_humidity_2m"] = hourly_relative_humidity_2m
hourly_data["dew_point_2m"] = hourly_dew_point_2m
hourly_data["rain"] = hourly_rain
hourly_data["showers"] = hourly_showers

hourly_dataframe = pd.DataFrame(data = hourly_data)
print(hourly_dataframe)

x = range(len(hourly_dataframe))
y = hourly_dataframe['temperature_2m']

slope , intercept , r , p , std_err =  stats.linregress(x,y)

def my_func(x):
    return slope * x + intercept

mymodel = list(map( my_func , x ))

plt.scatter( x , y )
plt.plot( x , mymodel )
plt.xlabel('Hours')
plt.ylabel('Temp (*c)')
plt.title('Temp Predict')
plt.show()
